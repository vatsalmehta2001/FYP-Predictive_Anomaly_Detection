{
  "cells": [
    {
      "cell_type": "markdown",
      "metadata": {},
      "source": [
        "# UK-DALE - Exploratory Data Analysis",
        "",
        "## Overview",
        "This notebook explores the UK Domestic Appliance-Level Electricity (UK-DALE) dataset containing ~114M readings from 5 households with appliance-level monitoring.",
        "",
        "**Student**: Vatsal Mehta (220408633@aston.ac.uk)",
        "**Supervisor**: Dr. Farzaneh Farhadi",
        "**Project**: Grid Guardian - AZR Energy Forecasting & Anomaly Detection"
      ]
    },
    {
      "cell_type": "code",
      "execution_count": null,
      "metadata": {},
      "outputs": [],
      "source": [
        "# Setup and imports",
        "import pandas as pd",
        "import polars as pl",
        "import numpy as np",
        "import matplotlib.pyplot as plt",
        "import seaborn as sns",
        "from pathlib import Path",
        "import json",
        "import warnings",
        "warnings.filterwarnings(\"ignore\")",
        "",
        "plt.style.use(\"seaborn-v0_8-whitegrid\")",
        "sns.set_palette(\"husl\")",
        "plt.rcParams[\"figure.dpi\"] = 150",
        "plt.rcParams[\"savefig.dpi\"] = 300",
        "",
        "PROJECT_ROOT = Path(\"..\").resolve()",
        "DATA_ROOT = PROJECT_ROOT / \"data\"",
        "UKDALE_PATH = DATA_ROOT / \"processed\" / \"dataset=ukdale\"",
        "FIGURES_DIR = PROJECT_ROOT / \"docs\" / \"figures\"",
        "FIGURES_DIR.mkdir(parents=True, exist_ok=True)",
        "",
        "print(\"Setup complete\")"
      ]
    },
    {
      "cell_type": "markdown",
      "metadata": {},
      "source": [
        "## Load and Validate Data",
        "",
        "**Purpose**: Load UK-DALE processed data and verify schema",
        "",
        "**Expected**: ~114M records at 30-minute intervals with appliance metadata"
      ]
    },
    {
      "cell_type": "code",
      "execution_count": null,
      "metadata": {},
      "outputs": [],
      "source": [
        "# Load sample data",
        "print(\"Loading UK-DALE sample (1M records)...\")",
        "df_sample = pl.scan_parquet(str(UKDALE_PATH / \"**/*.parquet\")).head(1_000_000).collect()",
        "print(f\"Loaded {len(df_sample):,} records\")",
        "print(f\"Columns: {df_sample.columns}\")",
        "df_pd = df_sample.to_pandas()",
        "df_pd[\"extras_parsed\"] = df_pd[\"extras\"].apply(json.loads)",
        "df_pd[\"channel\"] = df_pd[\"extras_parsed\"].apply(lambda x: x.get(\"channel\", \"unknown\"))",
        "df_pd[\"building\"] = df_pd[\"entity_id\"].str.split(\"_\").str[0]",
        "print(f\"",
        "Buildings: {df_pd[\"building\"].unique()}\")",
        "print(f\"Unique appliances: {df_pd[\"channel\"].nunique()}\")"
      ]
    },
    {
      "cell_type": "markdown",
      "metadata": {},
      "source": [
        "## Consumption Analysis",
        "",
        "**Purpose**: Understand appliance-level consumption patterns"
      ]
    },
    {
      "cell_type": "code",
      "execution_count": null,
      "metadata": {},
      "outputs": [],
      "source": [
        "# Consumption statistics",
        "print(\"=== Energy Consumption Statistics ===\")",
        "print(df_pd[\"energy_kwh\"].describe())",
        "",
        "print(\"",
        "=== Top 15 Appliances by Total Consumption ===\")",
        "appliance_totals = df_pd.groupby(\"channel\")[\"energy_kwh\"].agg([\"sum\", \"mean\", \"median\", \"std\", \"count\"]).sort_values(\"sum\", ascending=False)",
        "display(appliance_totals.head(15))",
        "",
        "total_energy = df_pd[\"energy_kwh\"].sum()",
        "appliance_totals[\"pct_contribution\"] = (appliance_totals[\"sum\"] / total_energy) * 100",
        "print(f\"",
        "Top 5 appliances: {appliance_totals.head(5)[\"pct_contribution\"].sum():.1f}% of consumption\")"
      ]
    },
    {
      "cell_type": "markdown",
      "metadata": {},
      "source": [
        "## Key Findings",
        "",
        "### Appliance-Level Insights",
        "- **Always-on baseline**: Fridge/freezer provide constant baseline",
        "- **Scheduled appliances**: Washing machine/dishwasher show time-of-day patterns",
        "- **High-power bursts**: Kettle/oven show short duration events",
        "",
        "### Next Steps",
        "1. Complete LCL exploration",
        "2. Implement appliance-specific anomaly detection",
        "3. Design hierarchical forecasting (aggregate + disaggregated)"
      ]
    }
  ],
  "metadata": {
    "kernelspec": {
      "display_name": "Python 3",
      "language": "python",
      "name": "python3"
    },
    "language_info": {
      "name": "python",
      "version": "3.11.0"
    }
  },
  "nbformat": 4,
  "nbformat_minor": 4
}