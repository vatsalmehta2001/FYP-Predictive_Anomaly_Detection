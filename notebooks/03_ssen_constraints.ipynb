{
  "cells": [
    {
      "cell_type": "markdown",
      "metadata": {},
      "source": [
        "# SSEN Network Constraints Analysis\n",
        "\n",
        "This notebook analyzes the SSEN (Scottish and Southern Electricity Networks) low-voltage feeder metadata to extract physical constraints for anomaly detection verification.\n",
        "\n",
        "**Purpose**: Define realistic physical constraints that the verifier agent will use to validate energy consumption scenarios.\n"
      ]
    }
  ],
  "metadata": {
    "language_info": {
      "name": "python"
    }
  },
  "nbformat": 4,
  "nbformat_minor": 2
}
